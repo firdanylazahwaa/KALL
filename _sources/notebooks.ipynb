{
 "cells": [
  {
   "cell_type": "markdown",
   "metadata": {},
   "source": [
    "# SISTEM PERSAMAAN LINIER\n",
    "\n",
    "Sistem Persamaan Linier (SPL) adalah kumpulan dari dua atau lebih persamaan yang memiliki variabel yang sama dan harus diselesaikan secara bersamaan. Dalam SPL, setiap persamaan berbentuk hubungan linier, artinya variabel-variabel dalam persamaan hanya memiliki pangkat satu dan tidak terdapat perkalian antar variabel.\n",
    "\n",
    "-Konsep Dasar SPL Dalam sistem ini, tujuan utama adalah mencari nilai dari variabel yang memenuhi semua persamaan yang ada. Misalnya, jika terdapat dua persamaan dengan dua variabel, kita harus menemukan nilai variabel tersebut sehingga kedua persamaan menjadi benar secara bersamaan.\n",
    "\n",
    "Jenis-Jenis Solusi dalam SPL Memiliki satu solusi unik – Artinya hanya ada satu nilai variabel yang memenuhi semua persamaan dalam sistem. Memiliki banyak solusi (tak hingga) – Artinya ada banyak kemungkinan nilai variabel yang bisa memenuhi semua persamaan. Ini terjadi jika kedua persamaan menggambarkan garis yang sama dalam grafik. Tidak memiliki solusi – Artinya tidak ada nilai variabel yang bisa memenuhi semua persamaan dalam sistem. Ini terjadi jika kedua persamaan mewakili garis yang sejajar dan tidak pernah bertemu. Metode Penyelesaian SPL Ada beberapa metode umum yang digunakan untuk menyelesaikan SPL, di antaranya:\n",
    "\n",
    "Metode Substitusi – Menggunakan salah satu persamaan untuk mengekspresikan satu variabel dalam bentuk variabel lainnya, lalu menggantinya ke persamaan lain. Metode Eliminasi – Mengeliminasi salah satu variabel dengan menjumlahkan atau mengurangkan persamaan sehingga tersisa satu variabel yang bisa diselesaikan. Metode Matriks – Menggunakan teknik matriks seperti eliminasi Gauss, metode invers matriks, atau aturan Cramer untuk menyelesaikan sistem secara lebih sistematis. Contoh Penerapan dalam Kehidupan Sehari-hari SPL sering digunakan dalam berbagai bidang, seperti ekonomi, teknik, dan sains. Misalnya:\n",
    "\n",
    "Dalam bisnis, untuk menentukan harga barang berdasarkan keuntungan dan biaya produksi. Dalam fisika, untuk menghitung kecepatan dan waktu tempuh dua kendaraan yang bergerak dengan kecepatan berbeda. Dalam teknik, untuk menyelesaikan masalah keseimbangan gaya pada struktur bangunan. Sistem Persamaan Linier adalah konsep dasar dalam matematika yang sangat penting karena banyak digunakan dalam berbagai bidang ilmu dan aplikasi nyata."
   ]
  }
 ],
 "metadata": {
  "kernelspec": {
   "display_name": "Python 3",
   "language": "python",
   "name": "python3"
  },
  "language_info": {
   "codemirror_mode": {
    "name": "ipython",
    "version": 3
   },
   "file_extension": ".py",
   "mimetype": "text/x-python",
   "name": "python",
   "nbconvert_exporter": "python",
   "pygments_lexer": "ipython3",
   "version": "3.8.0"
  },
  "widgets": {
   "application/vnd.jupyter.widget-state+json": {
    "state": {},
    "version_major": 2,
    "version_minor": 0
   }
  }
 },
 "nbformat": 4,
 "nbformat_minor": 4
}
